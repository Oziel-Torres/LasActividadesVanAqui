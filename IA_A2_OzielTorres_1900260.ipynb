{
  "nbformat": 4,
  "nbformat_minor": 0,
  "metadata": {
    "colab": {
      "name": "IA_A2_OzielTorres_1900260.ipynb",
      "provenance": [],
      "collapsed_sections": [],
      "authorship_tag": "ABX9TyPs8CdFsHCvV2ssEwJTp27p",
      "include_colab_link": true
    },
    "kernelspec": {
      "name": "python3",
      "display_name": "Python 3"
    },
    "language_info": {
      "name": "python"
    }
  },
  "cells": [
    {
      "cell_type": "markdown",
      "metadata": {
        "id": "view-in-github",
        "colab_type": "text"
      },
      "source": [
        "<a href=\"https://colab.research.google.com/github/Oziel-Torres/LasActividadesVanAqui/blob/main/IA_A2_OzielTorres_1900260.ipynb\" target=\"_parent\"><img src=\"https://colab.research.google.com/assets/colab-badge.svg\" alt=\"Open In Colab\"/></a>"
      ]
    },
    {
      "cell_type": "markdown",
      "source": [
        "A2: Ejercicios basicos en python\n",
        "Oziel Alberto Torres Villarreal\n",
        "1900260\n",
        "N1-N3"
      ],
      "metadata": {
        "id": "XSr8atzBbDeP"
      }
    },
    {
      "cell_type": "markdown",
      "source": [
        "Ejercicio 1: Escribe un programa que le pida al usuario por su nombre y que lo salude con su nombre, excepto si se llama “Ana”, “Juan”, y “Pedro”."
      ],
      "metadata": {
        "id": "7cAADV3KrLj7"
      }
    },
    {
      "cell_type": "code",
      "source": [
        "x = input('Buenos dias, me permite usted conocer su nombre?   ') #pido el nombre del usuario\n",
        "a=\"ana\";A=\"Ana\";j=\"juan\";J=\"Juan\";p=\"pedro\";P=\"Pedro\";           #identifico nombrres prohibidos\n",
        "if x == A:                                                       #identifico si es un nombre prohibido\n",
        "  print('Lo siento no saludo gente de exito')                    #le digo algo que se me vino a la mente, pero no le saludo\n",
        "else:\n",
        "     if x == a:\n",
        "      print('Lo siento no saludo gente de exito')\n",
        "     else: \n",
        "          if x == J:\n",
        "            print('Reconectando con el servidor....')\n",
        "          else: \n",
        "               if x == j:\n",
        "                print('Reconectando con el servidor....')\n",
        "               else:\n",
        "                 if x == p:\n",
        "                   print('Reconectanding again.....')\n",
        "                 else:\n",
        "                     if x == P:\n",
        "                       print('Reconectanding again.....')\n",
        "                     else:\n",
        "                       print(\"Hola muy buenos dias\",x,)         #si a llegado hasta aqui significa que el nombre no es prohibido y lo saluda"
      ],
      "metadata": {
        "colab": {
          "base_uri": "https://localhost:8080/"
        },
        "id": "f_JDeYEpcrAP",
        "outputId": "9e8f8e52-f204-4d9a-89f3-cf06bc6ef758"
      },
      "execution_count": 168,
      "outputs": [
        {
          "output_type": "stream",
          "name": "stdout",
          "text": [
            "Buenos dias, me permite usted conocer su nombre?   Oziel\n",
            "Hola muy buenos dias Oziel\n"
          ]
        }
      ]
    },
    {
      "cell_type": "markdown",
      "source": [
        "Forma mas sencilla:"
      ],
      "metadata": {
        "id": "d60d_-ibsKng"
      }
    },
    {
      "cell_type": "code",
      "source": [
        "x = input('Buenos dias, me permite usted conocer su nombre?   ') #pido el nombre del usuario\n",
        "a=[\"ana\",\"Ana\",\"juan\",\"Juan\",\"pedro\",\"Pedro\"];                   #identifico nombrres prohibidos\n",
        "if x in a:                                                       #identifico si es un nombre prohibido\n",
        "  print('Lo siento no saludo gente de exito')                    #le digo algo que se me vino a la mente, pero no le saludo\n",
        "else:\n",
        "   print(\"Hola muy buenos dias\",x,)                              #si a llegado hasta aqui significa que el nombre no es prohibido y lo saluda"
      ],
      "metadata": {
        "colab": {
          "base_uri": "https://localhost:8080/"
        },
        "id": "Yeu3Yu8Qre5M",
        "outputId": "43c2617a-de69-4494-c3c6-4ae29b09b397"
      },
      "execution_count": 74,
      "outputs": [
        {
          "output_type": "stream",
          "name": "stdout",
          "text": [
            "Buenos dias, me permite usted conocer su nombre?   Ana\n",
            "Lo siento no saludo gente de exito\n"
          ]
        }
      ]
    },
    {
      "cell_type": "markdown",
      "source": [
        "Ejercicio 2: Escribe una función que regrese el último elemento de una lista y que revierta el orden de la lista e imprima la lista revertida."
      ],
      "metadata": {
        "id": "7XXm5HNNrVzJ"
      }
    },
    {
      "cell_type": "code",
      "source": [
        "def lista_rev(a):                                      #el nombre de mi funcion con su parametro\n",
        " print(a[-1])                                          #instruccion de imprimir el ultimo elemento\n",
        " a.reverse()                                           #invierto la lista\n",
        " print(a);                                             #imprimo la lista\n",
        "\n",
        "x=[\"Mariana\",\"Ana\",\"Julio\",\"Juan\",\"Victor\",\"Pedro\"]    #esta es la lista tambien llamada argumento\n",
        "lista_rev(x);                                          #le aplican las instrucciones de la funcion y se obtienen resultados"
      ],
      "metadata": {
        "colab": {
          "base_uri": "https://localhost:8080/"
        },
        "id": "L-E1-lQXsYuV",
        "outputId": "48a20ba5-a0ca-4bb8-ee8e-9c57fb72af5a"
      },
      "execution_count": 169,
      "outputs": [
        {
          "output_type": "stream",
          "name": "stdout",
          "text": [
            "Pedro\n",
            "['Pedro', 'Victor', 'Juan', 'Julio', 'Ana', 'Mariana']\n"
          ]
        }
      ]
    },
    {
      "cell_type": "markdown",
      "source": [
        "Ejercicio 3: Escribe una función que toma una lista de strings y los imprima línea por línea en un marco rectangular."
      ],
      "metadata": {
        "id": "CJrOxYjts4E1"
      }
    },
    {
      "cell_type": "code",
      "source": [
        "def El_Encuadre_mas_poderoso_de_googlecolab(f,g):                          #nombre de la lista\n",
        "  print(g)\n",
        "  for y in x:\n",
        "     print(\"*\",f[0],\"\",\"*\")\n",
        "     print(\"*\",f[1],\" \",\" \",\"*\")\n",
        "     print(\"*\",f[2],\" \",\" \",\"\",\"*\")\n",
        "     print(\"*\",f[3],\" \",\"\",\"*\")                                            #defino los espacios y *\n",
        "     print(\"*\",f[4],\" \",\"\",\"*\")\n",
        "     print(\"*\",f[5],\"*\")\n",
        "     print(\"*\",f[6],\" \",\"*\")\n",
        "     print(\"*\",f[7],\" \",\" \",\"*\")\n",
        "     print(\"*\",f[8],\"\",\"*\")\n",
        "     print(g)\n",
        "     break\n",
        "\n",
        "x=[\"Espero\",\"que\",\"al\",\"leer\",\"esto\",\"cumplas\",\"todos\",\"tus\",\"sueños\"]    #lo imprimo\n",
        "z=(\"***********\")\n",
        "El_Encuadre_mas_poderoso_de_googlecolab(x,z)\n",
        "\n"
      ],
      "metadata": {
        "colab": {
          "base_uri": "https://localhost:8080/"
        },
        "id": "fnYIKs5e0lbe",
        "outputId": "3116ee36-5987-478f-da39-d7f6a96eebe1"
      },
      "execution_count": 167,
      "outputs": [
        {
          "output_type": "stream",
          "name": "stdout",
          "text": [
            "***********\n",
            "* Espero  *\n",
            "* que     *\n",
            "* al      *\n",
            "* leer    *\n",
            "* esto    *\n",
            "* cumplas *\n",
            "* todos   *\n",
            "* tus     *\n",
            "* sueños  *\n",
            "***********\n"
          ]
        }
      ]
    }
  ]
}